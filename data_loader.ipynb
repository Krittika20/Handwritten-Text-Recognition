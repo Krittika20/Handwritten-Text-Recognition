{
 "cells": [
  {
   "cell_type": "code",
   "execution_count": 1,
   "metadata": {},
   "outputs": [],
   "source": [
    "import os\n",
    "from PIL import Image\n",
    "import numpy as np\n",
    "import tensorflow as tf"
   ]
  },
  {
   "cell_type": "code",
   "execution_count": 2,
   "metadata": {},
   "outputs": [],
   "source": [
    "def preprocess(img):\n",
    "    w, h = img.size\n",
    "    BASE_WIDTH, BASE_HEIGHT = 128, 32\n",
    "\n",
    "    def adjust_dim():\n",
    "        if BASE_HEIGHT >= h * BASE_WIDTH / w:\n",
    "            return BASE_WIDTH, h * BASE_WIDTH / w\n",
    "        elif BASE_WIDTH >= w * BASE_HEIGHT / h:\n",
    "            return w * BASE_HEIGHT / h, BASE_HEIGHT\n",
    "        else:\n",
    "            return BASE_WIDTH, BASE_HEIGHT\n",
    "\n",
    "    new_dim = tuple(map(int, adjust_dim()))\n",
    "    blank_img = Image.new('L', (BASE_WIDTH, BASE_HEIGHT), 255)\n",
    "    img = img.resize(new_dim, Image.ANTIALIAS)\n",
    "    assert(img.size[0] <= blank_img.size[0] and img.size[1] <= blank_img.size[1])\n",
    "    blank_img.paste(img)\n",
    "    return blank_img\n",
    "\n",
    "def image_loader(filepath):\n",
    "    X = []\n",
    "    X_filename = []\n",
    "    for dir, parent_file, files in os.walk(filepath):\n",
    "        for filename in files:\n",
    "            path = os.path.join(dir, filename)\n",
    "            if filename[-3 : ] == 'png' and os.stat(path).st_size > 0:\n",
    "                img = preprocess(Image.open(path).copy())\n",
    "                X.append(np.array(img))\n",
    "                if(filename[-6:-4] == '\\n'):\n",
    "                    X_filename.append(filename[:-6])\n",
    "                else:\n",
    "                    X_filename.append(filename[:-4])\n",
    "    return np.array(X), np.array(X_filename)\n",
    "\n",
    "def text_loader(filepath):\n",
    "    Y = {}\n",
    "    file = open(filepath, 'r')\n",
    "    for info in file:\n",
    "        if info[0] == '#':\n",
    "            pass\n",
    "        info = info.split(\" \")\n",
    "        filename = info[0]\n",
    "        word = info[-1]\t\n",
    "        Y[filename] = word\n",
    "    return Y\n",
    "\n",
    "\n",
    "def data_loader(image_filepath, text_filepath):\n",
    "    X, X_filename = image_loader(image_filepath)\n",
    "    Y_dict = text_loader(text_filepath)\n",
    "    split = int(0.95 * len(X))\n",
    "    \n",
    "    X_train = X[:split]\n",
    "    X_test = X[split:]\n",
    "    X_filename_train = X_filename[:split]\n",
    "    X_filename_test = X_filename[split:]\n",
    "    \n",
    "    Y_train = []\n",
    "    Y_test = []\n",
    "    \n",
    "    for i in range(len(X_filename_train)):\n",
    "        Y_train.append(Y_dict[X_filename_train[i]])\n",
    "    for i in range (len(X_filename_test)):\n",
    "        Y_test.append(Y_dict[X_filename_test[i]])\n",
    "    \n",
    "    Y_train = np.array(Y_train)\n",
    "    Y_test = np.array(Y_test)\n",
    "    \n",
    "    return X_train, X_test, Y_train, Y_test"
   ]
  },
  {
   "cell_type": "code",
   "execution_count": null,
   "metadata": {},
   "outputs": [],
   "source": []
  },
  {
   "cell_type": "code",
   "execution_count": null,
   "metadata": {},
   "outputs": [],
   "source": []
  }
 ],
 "metadata": {
  "kernelspec": {
   "display_name": "Python 3",
   "language": "python",
   "name": "python3"
  },
  "language_info": {
   "codemirror_mode": {
    "name": "ipython",
    "version": 3
   },
   "file_extension": ".py",
   "mimetype": "text/x-python",
   "name": "python",
   "nbconvert_exporter": "python",
   "pygments_lexer": "ipython3",
   "version": "3.8.5"
  }
 },
 "nbformat": 4,
 "nbformat_minor": 4
}
