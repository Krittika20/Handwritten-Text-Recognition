{
 "cells": [
  {
   "cell_type": "code",
   "execution_count": null,
   "metadata": {},
   "outputs": [],
   "source": [
    "import math\n",
    "import tensorflow as tf\n",
    "from tensorflow.keras.models import Model\n",
    "from tensorflow.keras import layers\n",
    "from tensorflow.keras.layers import Input, Conv1D, Conv2D, MaxPooling2D, Activation, Reshape, Bidirectional, LSTM, Dense, Lambda, Layer, Dropout, BatchNormalization\n",
    "from tensorflow.keras.optimizers import Adam\n",
    "from spellchecker import SpellChecker\n",
    "%run data_loader.ipynb\n",
    "%matplotlib inline\n",
    "np.random.seed(1)"
   ]
  },
  {
   "cell_type": "code",
   "execution_count": null,
   "metadata": {},
   "outputs": [],
   "source": [
    "X_train, X_test, Y_train, Y_test, Y_train_encoded, Y_test_encoded = data_loader('words', 'words.txt') \n",
    "X_train = X_train/255\n",
    "X_test = X_test/255\n",
    "X_train = np.reshape(X_train, (-1, 32, 128, 1))\n",
    "X_test = np.reshape(X_test, (-1, 32, 128, 1))"
   ]
  },
  {
   "cell_type": "code",
   "execution_count": null,
   "metadata": {},
   "outputs": [],
   "source": [
    "class CTCLayer(Layer):\n",
    "    def __init__(self, name=None):\n",
    "        super().__init__(name=name)\n",
    "        self.loss_fn = tf.keras.backend.ctc_batch_cost\n",
    "\n",
    "    def call(self, y_true, y_pred):\n",
    "        batch_len = tf.cast(tf.shape(y_true)[0], dtype=\"int64\")\n",
    "        input_length = tf.cast(tf.shape(y_pred)[1], dtype=\"int64\")\n",
    "        label_length = tf.cast(tf.shape(y_true)[1], dtype=\"int64\")\n",
    "\n",
    "        input_length = input_length * tf.ones(shape=(batch_len, 1), dtype=\"int64\")\n",
    "        label_length = label_length * tf.ones(shape=(batch_len, 1), dtype=\"int64\")\n",
    "\n",
    "        loss = self.loss_fn(y_true, y_pred, input_length, label_length)\n",
    "        self.add_loss(loss)\n",
    "\n",
    "        return y_pred"
   ]
  },
  {
   "cell_type": "code",
   "execution_count": null,
   "metadata": {},
   "outputs": [],
   "source": [
    "def build_model():\n",
    "\n",
    "    input_img = Input(shape=(32, 128, 1), name=\"image\", dtype=\"float32\")\n",
    "    labels =  Input(name=\"label\", shape=(None,), dtype=\"float32\")\n",
    "\n",
    "    conv1 = Conv2D(16, (5, 5),activation=\"relu\",kernel_initializer=\"he_normal\", padding=\"same\", name=\"Conv1\")(input_img)\n",
    "    pool1 = MaxPooling2D((2, 2), name=\"pool1\")(conv1)\n",
    "\n",
    "\n",
    "    conv2 = Conv2D(32, (5, 5), activation=\"relu\", kernel_initializer=\"he_normal\", padding=\"same\", name=\"Conv2\")(pool1)\n",
    "    pool2 = MaxPooling2D((2, 2), name=\"pool2\")(conv2)\n",
    "    \n",
    "    conv3 = Conv2D(64, (3, 3), activation=\"relu\", kernel_initializer=\"he_normal\", padding=\"same\", name=\"Conv3\")(pool2)\n",
    "    pool3 = MaxPooling2D((2, 1), name=\"pool3\")(conv3)\n",
    "    \n",
    "    conv4 = Conv2D(128, (3, 3), activation=\"relu\", kernel_initializer=\"he_normal\", padding=\"same\", name=\"Conv4\")(pool3)\n",
    "    pool4 = MaxPooling2D((2, 1), name=\"pool4\")(conv4)\n",
    "    \n",
    "    conv5 = Conv2D(256, (3, 3), activation=\"relu\", kernel_initializer=\"he_normal\", padding=\"same\", name=\"Conv5\")(pool4)\n",
    "    pool5 = MaxPooling2D((2, 1), name=\"pool5\")(conv5)\n",
    "    \n",
    "    reshape = Reshape(target_shape = (32, 256), name=\"reshape\")(pool5)\n",
    "    dropout_layer = Dropout(0.2)(reshape)\n",
    "\n",
    "    blstm1 = Bidirectional( tf.keras.layers.LSTM(256, return_sequences=True, dropout=0.25))(reshape)\n",
    "    blstm2 = Bidirectional( tf.keras.layers.LSTM(256, return_sequences=True, dropout=0.25))(blstm1)\n",
    "    \n",
    "    dense = Dense(80, activation=\"softmax\", name=\"dense1\")(blstm2)\n",
    "\n",
    "    output = CTCLayer(name=\"ctc_loss\")(labels, dense)\n",
    "\n",
    "    model =  Model(inputs=[input_img, labels], outputs=output, name=\"htr_model_1\")\n",
    "    \n",
    "    opt = Adam()\n",
    "\n",
    "    model.compile(optimizer=opt, metrics=[tf.keras.metrics.Accuracy()])\n",
    "    return model\n"
   ]
  },
  {
   "cell_type": "code",
   "execution_count": null,
   "metadata": {
    "scrolled": true
   },
   "outputs": [],
   "source": [
    "model = build_model()\n",
    "model.summary()"
   ]
  },
  {
   "cell_type": "code",
   "execution_count": null,
   "metadata": {},
   "outputs": [],
   "source": [
    "history = model.fit(x = [X_train, Y_train_encoded], epochs = 2, verbose = 1)"
   ]
  },
  {
   "cell_type": "code",
   "execution_count": null,
   "metadata": {},
   "outputs": [],
   "source": [
    "prediction_model = tf.keras.models.Model(model.get_layer(name=\"image\").input, model.get_layer(name=\"dense1\").output)\n",
    "prediction_model.summary()\n",
    "prediction = prediction_model.predict([X_test, Y_test_encoded])\n",
    "out = tf.keras.backend.get_value(tf.keras.backend.ctc_decode(prediction, input_length=np.ones(prediction.shape[0])*prediction.shape[1], greedy=True)[0][0])[:, : 32]\n",
    "print(np.shape(out))\n",
    "\n",
    "spell = SpellChecker()\n",
    "i, correct = 0, 0\n",
    "for x in out:\n",
    "    pred_word, equality = '', False\n",
    "    act_word = Y_test[i]\n",
    "    for p in x:  \n",
    "        if int(p) != -1:\n",
    "            pred_word = pred_word + char_list[int(p)]\n",
    "    pred_word = spell.correction(pred_word)\n",
    "    if pred_word == act_word:\n",
    "        equality = True\n",
    "        correct += 1\n",
    "    print('||' + act_word + '||' + pred_word + '||' + str(equality))       \n",
    "    print('\\n')\n",
    "    i+=1\n",
    "\n",
    "print('Total correct matches : {}'.format(correct))\n",
    "print('Accuracy : {} %'.format(correct/len(X_test)*100))"
   ]
  }
 ],
 "metadata": {
  "kernelspec": {
   "display_name": "Python 3",
   "language": "python",
   "name": "python3"
  },
  "language_info": {
   "codemirror_mode": {
    "name": "ipython",
    "version": 3
   },
   "file_extension": ".py",
   "mimetype": "text/x-python",
   "name": "python",
   "nbconvert_exporter": "python",
   "pygments_lexer": "ipython3",
   "version": "3.6.10"
  }
 },
 "nbformat": 4,
 "nbformat_minor": 4
}
