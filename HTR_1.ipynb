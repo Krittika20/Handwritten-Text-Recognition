{
 "cells": [
  {
   "cell_type": "code",
   "execution_count": 46,
   "metadata": {},
   "outputs": [],
   "source": [
    "import math\n",
    "import numpy as np\n",
    "import matplotlib.pyplot as plt\n",
    "from PIL import Image\n",
    "import tensorflow as tf\n",
    "from tensorflow.keras import datasets, layers, models\n",
    "from tensorflow.python.framework import ops\n",
    "%run data_loader1.ipynb\n",
    "%matplotlib inline\n",
    "np.random.seed(1)"
   ]
  },
  {
   "cell_type": "code",
   "execution_count": 47,
   "metadata": {},
   "outputs": [],
   "source": [
    "X_train, X_test, Y = data_loader('words_trial', 'words_trial.txt')\n",
    "X_train = X_train/255\n",
    "X_test = X_test/255"
   ]
  },
  {
   "cell_type": "code",
   "execution_count": 52,
   "metadata": {},
   "outputs": [],
   "source": [
    "def CNNlayer(X_train, Y):\n",
    "    model = models.Sequential()\n",
    "    model.add(layers.Conv2D(16, (5, 5), padding = 'same', activation='relu', input_shape=(32, 128, 1)))\n",
    "    model.add(layers.MaxPooling2D((2, 2)))\n",
    "    model.add(layers.Conv2D(32, (5, 5), padding = 'same', activation='relu'))\n",
    "    model.add(layers.MaxPooling2D((2, 2)))\n",
    "    model.add(layers.Conv2D(64, (3, 3), padding = 'same', activation='relu'))\n",
    "    model.add(layers.MaxPooling2D((2, 1)))\n",
    "    model.add(layers.Conv2D(128, (3, 3), padding = 'same', activation='relu'))\n",
    "    model.add(layers.MaxPooling2D((2, 1)))\n",
    "    model.add(layers.Conv2D(256, (3, 3), padding = 'same', activation='relu'))\n",
    "    model.add(layers.MaxPooling2D((2, 1)))\n",
    "    model.summary()        "
   ]
  },
  {
   "cell_type": "code",
   "execution_count": 54,
   "metadata": {},
   "outputs": [
    {
     "name": "stdout",
     "output_type": "stream",
     "text": [
      "Model: \"sequential_20\"\n",
      "_________________________________________________________________\n",
      "Layer (type)                 Output Shape              Param #   \n",
      "=================================================================\n",
      "conv2d_76 (Conv2D)           (None, 32, 128, 16)       416       \n",
      "_________________________________________________________________\n",
      "max_pooling2d_69 (MaxPooling (None, 16, 64, 16)        0         \n",
      "_________________________________________________________________\n",
      "conv2d_77 (Conv2D)           (None, 16, 64, 32)        12832     \n",
      "_________________________________________________________________\n",
      "max_pooling2d_70 (MaxPooling (None, 8, 32, 32)         0         \n",
      "_________________________________________________________________\n",
      "conv2d_78 (Conv2D)           (None, 8, 32, 64)         18496     \n",
      "_________________________________________________________________\n",
      "max_pooling2d_71 (MaxPooling (None, 4, 32, 64)         0         \n",
      "_________________________________________________________________\n",
      "conv2d_79 (Conv2D)           (None, 4, 32, 128)        73856     \n",
      "_________________________________________________________________\n",
      "max_pooling2d_72 (MaxPooling (None, 2, 32, 128)        0         \n",
      "_________________________________________________________________\n",
      "conv2d_80 (Conv2D)           (None, 2, 32, 256)        295168    \n",
      "_________________________________________________________________\n",
      "max_pooling2d_73 (MaxPooling (None, 1, 32, 256)        0         \n",
      "=================================================================\n",
      "Total params: 400,768\n",
      "Trainable params: 400,768\n",
      "Non-trainable params: 0\n",
      "_________________________________________________________________\n"
     ]
    }
   ],
   "source": [
    "CNNlayer(X_train, Y)"
   ]
  },
  {
   "cell_type": "code",
   "execution_count": 19,
   "metadata": {},
   "outputs": [],
   "source": [
    "\n"
   ]
  },
  {
   "cell_type": "code",
   "execution_count": null,
   "metadata": {},
   "outputs": [],
   "source": []
  }
 ],
 "metadata": {
  "kernelspec": {
   "display_name": "Python 3",
   "language": "python",
   "name": "python3"
  },
  "language_info": {
   "codemirror_mode": {
    "name": "ipython",
    "version": 3
   },
   "file_extension": ".py",
   "mimetype": "text/x-python",
   "name": "python",
   "nbconvert_exporter": "python",
   "pygments_lexer": "ipython3",
   "version": "3.6.10"
  }
 },
 "nbformat": 4,
 "nbformat_minor": 4
}
